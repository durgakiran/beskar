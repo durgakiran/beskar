{
 "cells": [
  {
   "cell_type": "code",
   "execution_count": null,
   "metadata": {},
   "outputs": [],
   "source": [
    "from zapy import requests\n",
    "from zapy.utils import module\n",
    "from pathlib import Path\n",
    "import os\n",
    "\n",
    "print(os.getcwd())\n",
    "\n",
    "if __name__ == \"__main__\":\n",
    "    setup_store = module.load_module('../store.py')\n",
    "    rel_path = Path().resolve()\n"
   ]
  },
  {
   "cell_type": "code",
   "execution_count": null,
   "metadata": {},
   "outputs": [],
   "source": [
    "request = requests.from_path(rel_path / '../auth.zapy')\n",
    "response = await request.send()\n",
    "response.json()"
   ]
  }
 ],
 "metadata": {
  "kernelspec": {
   "display_name": "zappy",
   "language": "python",
   "name": "python3"
  },
  "language_info": {
   "codemirror_mode": {
    "name": "ipython",
    "version": 3
   },
   "file_extension": ".py",
   "mimetype": "text/x-python",
   "name": "python",
   "nbconvert_exporter": "python",
   "pygments_lexer": "ipython3",
   "version": "3.12.2"
  }
 },
 "nbformat": 4,
 "nbformat_minor": 2
}
