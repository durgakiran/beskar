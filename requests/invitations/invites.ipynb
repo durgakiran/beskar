{
 "cells": [
  {
   "cell_type": "code",
   "execution_count": 50,
   "metadata": {},
   "outputs": [
    {
     "name": "stdout",
     "output_type": "stream",
     "text": [
      "/Users/kiran/projects/beskar/requests/invitations\n"
     ]
    }
   ],
   "source": [
    "from zapy import requests\n",
    "from dotenv import load_dotenv\n",
    "from zapy.utils import module\n",
    "from pathlib import Path\n",
    "import os\n",
    "\n",
    "load_dotenv()\n",
    "\n",
    "print(os.getcwd())\n",
    "\n",
    "if __name__ == \"__main__\":\n",
    "    setup_store = module.load_module('../store.py')\n",
    "    rel_path = Path().resolve()"
   ]
  },
  {
   "cell_type": "code",
   "execution_count": 51,
   "metadata": {},
   "outputs": [],
   "source": [
    "request = requests.from_path(rel_path / '../auth.zapy')\n",
    "response = await request.send()\n",
    "responseJSON = response.json()"
   ]
  },
  {
   "cell_type": "code",
   "execution_count": 24,
   "metadata": {},
   "outputs": [
    {
     "name": "stdout",
     "output_type": "stream",
     "text": [
      "['{', '    \"userId\": \"971d2839-63c7-428d-b747-4aa6d7be275d\",', '    \"entity\": \"space\",', '    \"entityId\": \"f458794c-7127-4ea1-934c-ab44a8c3bfb0\"', '}', '']\n",
      "[KeyValueItem(key='Content-Type', value='{{ ctx.auto() }}', active=True), KeyValueItem(key='Authorization', value='Bearer {{ctx.store.access_token}}', active=True), KeyValueItem(key='', value='', active=True)]\n",
      "<Response [200 OK]>\n"
     ]
    },
    {
     "data": {
      "text/plain": [
       "{'data': '99bc9025795cdf8eadc59563aec81c83', 'status': 'success'}"
      ]
     },
     "execution_count": 24,
     "metadata": {},
     "output_type": "execute_result"
    }
   ],
   "source": [
    "request = requests.from_path(rel_path / 'invite.zapy')\n",
    "print(request.body)\n",
    "print(request.headers)\n",
    "response = await request.send()\n",
    "print(response)\n",
    "response.json()"
   ]
  },
  {
   "cell_type": "code",
   "execution_count": 52,
   "metadata": {},
   "outputs": [
    {
     "name": "stdout",
     "output_type": "stream",
     "text": [
      "durgakiran3\n"
     ]
    }
   ],
   "source": [
    "# modify requses to get different credentials\n",
    "setup_store.store.username = os.getenv(\"USERNAME2\")\n",
    "print(setup_store.store.get(\"username\"))"
   ]
  },
  {
   "cell_type": "code",
   "execution_count": 57,
   "metadata": {},
   "outputs": [
    {
     "name": "stdout",
     "output_type": "stream",
     "text": [
      "{'access_token': 'eyJhbGciOiJSUzI1NiIsInR5cCIgOiAiSldUIiwia2lkIiA6ICJpeUN1RkJRNGJKM2hFWWdxbWtWYjQ4aWhKWUotRFVoLTNtQ1RPVTZmYUs0In0.eyJleHAiOjE3MjU2MjE0MjksImlhdCI6MTcyNTYyMTEyOSwianRpIjoiZDkzOWYxMTctOTI5ZC00NDFiLWFiZmEtZGQyOTRkNzBlOGJiIiwiaXNzIjoiaHR0cDovL2xvY2FsaG9zdDo4MDgzL3JlYWxtcy9kZXZiZXNrYXJyZWFsbSIsImF1ZCI6ImFjY291bnQiLCJzdWIiOiI5NzFkMjgzOS02M2M3LTQyOGQtYjc0Ny00YWE2ZDdiZTI3NWQiLCJ0eXAiOiJCZWFyZXIiLCJhenAiOiJiZXNhcmFwcGNsaWVudCIsInNlc3Npb25fc3RhdGUiOiI3YWJkNGM4ZS1mOGRhLTRkZWYtODU5My1lMWM2YTgxMjlkODEiLCJhY3IiOiIxIiwiYWxsb3dlZC1vcmlnaW5zIjpbImh0dHA6Ly9sb2NhbGhvc3Q6ODA4MCIsImh0dHA6Ly9sb2NhbGhvc3Q6MzAwMCJdLCJyZWFsbV9hY2Nlc3MiOnsicm9sZXMiOlsib2ZmbGluZV9hY2Nlc3MiLCJkZWZhdWx0LXJvbGVzLWRldmJlc2thcnJlYWxtIiwidW1hX2F1dGhvcml6YXRpb24iLCJ1c2VyIl19LCJyZXNvdXJjZV9hY2Nlc3MiOnsiYWNjb3VudCI6eyJyb2xlcyI6WyJtYW5hZ2UtYWNjb3VudCIsIm1hbmFnZS1hY2NvdW50LWxpbmtzIiwidmlldy1wcm9maWxlIl19fSwic2NvcGUiOiJwcm9maWxlIGVtYWlsIiwic2lkIjoiN2FiZDRjOGUtZjhkYS00ZGVmLTg1OTMtZTFjNmE4MTI5ZDgxIiwiZW1haWxfdmVyaWZpZWQiOmZhbHNlLCJodHRwczovL2hhc3VyYS5pby9qd3QvY2xhaW1zIjp7IngtaGFzdXJhLWRlZmF1bHQtcm9sZSI6InVzZXIiLCJ4LWhhc3VyYS11c2VyLWlkIjoiOTcxZDI4MzktNjNjNy00MjhkLWI3NDctNGFhNmQ3YmUyNzVkIiwieC1oYXN1cmEtYWxsb3dlZC1yb2xlcyI6WyJvZmZsaW5lX2FjY2VzcyIsImRlZmF1bHQtcm9sZXMtZGV2YmVza2FycmVhbG0iLCJ1bWFfYXV0aG9yaXphdGlvbiIsInVzZXIiXX0sIm5hbWUiOiJLaXJhbiAyIFBhbGFrdXJ0aGkiLCJwcmVmZXJyZWRfdXNlcm5hbWUiOiJkdXJnYWtpcmFuMyIsImdpdmVuX25hbWUiOiJLaXJhbiAyIiwiZmFtaWx5X25hbWUiOiJQYWxha3VydGhpIiwiZW1haWwiOiJraXJhbjNAZ21haWwuY29tIn0.kiYSU1ituT5QT4tBvIfNaasfcmEpf3fQGja3Sf-ZDIsXeQZ4YEibqBjAPhfngDy3wGAyrA3WP9P-K-_1iiiGgX1-ROvd1i4zD7uEq3E1bpz9Ar6jDBjnmnZgff3SJVIs0Kop2X50AyQFZls5pDJak97P4YMEfeYMZSFGuMBixnmfMyaT_INjIm97Ugae0fRfUVC32HjarntTE5msJLREh0UeEVs4qxmBGPJmrHp-mYBvncB-j7vJQzCJzz4IqVXd_8BaRWnCls7bVRz72gkO0sDASCSfibHcc86cFWzKnZEdSa3SU_FCr5LN-P6E4jy64KLX9HuJcnQDf0RmC3Kjxg', 'expires_in': 300, 'refresh_expires_in': 1800, 'refresh_token': 'eyJhbGciOiJIUzUxMiIsInR5cCIgOiAiSldUIiwia2lkIiA6ICI5MTIyMmQ5OC1lZTAzLTRlODItODcwMy00OTIyYzEzOTI5YWIifQ.eyJleHAiOjE3MjU2MjI5MjksImlhdCI6MTcyNTYyMTEyOSwianRpIjoiZjRjY2M0MTktNWVjNS00NTUzLWE2MDQtNWI3MzgzZjY2ZWEyIiwiaXNzIjoiaHR0cDovL2xvY2FsaG9zdDo4MDgzL3JlYWxtcy9kZXZiZXNrYXJyZWFsbSIsImF1ZCI6Imh0dHA6Ly9sb2NhbGhvc3Q6ODA4My9yZWFsbXMvZGV2YmVza2FycmVhbG0iLCJzdWIiOiI5NzFkMjgzOS02M2M3LTQyOGQtYjc0Ny00YWE2ZDdiZTI3NWQiLCJ0eXAiOiJSZWZyZXNoIiwiYXpwIjoiYmVzYXJhcHBjbGllbnQiLCJzZXNzaW9uX3N0YXRlIjoiN2FiZDRjOGUtZjhkYS00ZGVmLTg1OTMtZTFjNmE4MTI5ZDgxIiwic2NvcGUiOiJwcm9maWxlIGVtYWlsIiwic2lkIjoiN2FiZDRjOGUtZjhkYS00ZGVmLTg1OTMtZTFjNmE4MTI5ZDgxIn0.rFVExHn4mb6AvRP5f0YdHWTNcURWPtpz7WRuTwdXtdSskX2hdsjcakkcBv-oc0naEWXKfQlEliEcfrKFAJbMmw', 'token_type': 'Bearer', 'not-before-policy': 0, 'session_state': '7abd4c8e-f8da-4def-8593-e1c6a8129d81', 'scope': 'profile email'}\n"
     ]
    }
   ],
   "source": [
    "request = requests.from_path(rel_path / '../auth.zapy')\n",
    "response = await request.send()\n",
    "responseJSON = response.json()\n",
    "print(responseJSON)"
   ]
  },
  {
   "cell_type": "code",
   "execution_count": 58,
   "metadata": {},
   "outputs": [
    {
     "name": "stdout",
     "output_type": "stream",
     "text": [
      "<Response [200 OK]>\n"
     ]
    },
    {
     "data": {
      "text/plain": [
       "{'data': '', 'status': 'success'}"
      ]
     },
     "execution_count": 58,
     "metadata": {},
     "output_type": "execute_result"
    }
   ],
   "source": [
    "request = requests.from_path(rel_path / 'accept.zapy')\n",
    "response = await request.send()\n",
    "print(response)\n",
    "response.json()"
   ]
  }
 ],
 "metadata": {
  "kernelspec": {
   "display_name": "zappy",
   "language": "python",
   "name": "python3"
  },
  "language_info": {
   "codemirror_mode": {
    "name": "ipython",
    "version": 3
   },
   "file_extension": ".py",
   "mimetype": "text/x-python",
   "name": "python",
   "nbconvert_exporter": "python",
   "pygments_lexer": "ipython3",
   "version": "3.12.2"
  }
 },
 "nbformat": 4,
 "nbformat_minor": 2
}
